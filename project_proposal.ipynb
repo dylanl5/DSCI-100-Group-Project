{
 "cells": [
  {
   "cell_type": "markdown",
   "id": "680f097f-5508-440a-86a9-a4be5560b6b9",
   "metadata": {},
   "source": [
    "# Title\n",
    "\n",
    "## Introduction\n",
    "\n",
    "- Provide some relevant background information on the topic so that someone unfamiliar with it will be prepared to understand the rest of your proposal.\n",
    "- Clearly state the question you will try to answer with your project.\n",
    "- Identify and describe the dataset that will be used to answer the question."
   ]
  },
  {
   "cell_type": "code",
   "execution_count": null,
   "id": "44ce2b8a-4c71-468e-bc3a-6190c94dfd80",
   "metadata": {},
   "outputs": [],
   "source": []
  }
 ],
 "metadata": {
  "kernelspec": {
   "display_name": "R",
   "language": "R",
   "name": "ir"
  },
  "language_info": {
   "codemirror_mode": "r",
   "file_extension": ".r",
   "mimetype": "text/x-r-source",
   "name": "R",
   "pygments_lexer": "r",
   "version": "4.3.1"
  }
 },
 "nbformat": 4,
 "nbformat_minor": 5
}
